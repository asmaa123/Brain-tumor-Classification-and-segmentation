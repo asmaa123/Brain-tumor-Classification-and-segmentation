{
 "cells": [
  {
   "cell_type": "code",
   "execution_count": 28,
   "id": "730b8f20-51a5-47be-964f-a73b43ffe962",
   "metadata": {},
   "outputs": [
    {
     "name": "stdout",
     "output_type": "stream",
     "text": [
      "Writing Classify1_tumor.py\n"
     ]
    }
   ],
   "source": [
    "%%writefile Classify1_tumor.py\n",
    "\n",
    "# -----------------------------\n",
    "# 📚 Import Libraries\n",
    "# -----------------------------\n",
    "import streamlit as st\n",
    "import cv2\n",
    "import numpy as np\n",
    "from tensorflow.keras.models import load_model\n",
    "import matplotlib.pyplot as plt\n",
    "\n",
    "# -----------------------------\n",
    "# 🧠 Load EfficientNet Model\n",
    "# -----------------------------\n",
    "model = load_model(\"resnet_tumor_model.keras\")\n",
    "\n",
    "# -----------------------------\n",
    "# 🖼️ Helper Functions\n",
    "# -----------------------------\n",
    "def prepare_image(image, target_size=(224, 224)):\n",
    "    img = cv2.cvtColor(image, cv2.COLOR_BGR2RGB)\n",
    "    img = cv2.resize(img, target_size)\n",
    "    img = img / 255.0\n",
    "    img = np.expand_dims(img, axis=0)\n",
    "    return img\n",
    "\n",
    "def predict_image(model, image):\n",
    "    img = prepare_image(image)\n",
    "    pred = model.predict(img)\n",
    "    class_idx = np.argmax(pred)\n",
    "    classes = {0: \"No Tumor ❌\", 1: \"Tumor ✅\"}\n",
    "    return classes[class_idx], pred\n",
    "\n",
    "# -----------------------------\n",
    "# 🌟 Streamlit Page Config\n",
    "# -----------------------------\n",
    "st.set_page_config(\n",
    "    page_title=\"Brain Tumor Detection 🧠\",\n",
    "    layout=\"wide\",\n",
    "    initial_sidebar_state=\"expanded\"\n",
    ")\n",
    "\n",
    "# Sidebar\n",
    "st.sidebar.title(\"⚙️ Options\")\n",
    "st.sidebar.write(\"This app detects brain tumors in MRI images.\")\n",
    "st.sidebar.markdown(\"Upload a clear MRI image for best results.\")\n",
    "\n",
    "# Main Page\n",
    "st.title(\"🧠 Brain Tumor Detection\")\n",
    "st.markdown(\"Upload a brain MRI image and the model will predict if a tumor is present.\")\n",
    "\n",
    "# -----------------------------\n",
    "# 📤 File Uploader\n",
    "# -----------------------------\n",
    "uploaded_file = st.file_uploader(\"Choose an image...\", type=[\"jpg\",\"png\",\"jpeg\"])\n",
    "if uploaded_file is not None:\n",
    "    file_bytes = np.asarray(bytearray(uploaded_file.read()), dtype=np.uint8)\n",
    "    image = cv2.imdecode(file_bytes, cv2.IMREAD_COLOR)\n",
    "\n",
    "    st.image(image, caption='Uploaded Image', width=100)\n",
    "    st.write(\"---\")\n",
    "\n",
    "    # -----------------------------\n",
    "    # 🎯 Prediction\n",
    "    # -----------------------------\n",
    "    result, prob = predict_image(model, image)\n",
    "\n",
    "    st.markdown(f\"### Prediction: **{result}**\")\n",
    "    \n",
    "    # Probability bars\n",
    "    classes = [\"No Tumor ❌\", \"Tumor ✅\"]\n",
    "    probs = prob[0]\n",
    "\n",
    "    st.markdown(\"### Probability Scores\")\n",
    "    for c, p in zip(classes, probs):\n",
    "        st.progress(int(p*100))\n",
    "        st.write(f\"{c}: {p*100:.2f}%\")\n",
    "\n",
    "    # Optional: Probability bar chart\n",
    "    plt.figure(figsize=(5,5))\n",
    "    fig, ax = plt.subplots()\n",
    "    ax.bar(classes, probs, color=[\"green\", \"red\"])\n",
    "    ax.set_ylim([0, 1])\n",
    "    ax.set_ylabel(\"Probability\")\n",
    "    ax.set_title(\"Prediction Probabilities\")\n",
    "    st.pyplot(fig)\n"
   ]
  },
  {
   "cell_type": "code",
   "execution_count": 1,
   "id": "d523eb21-dc27-40e7-8f3e-c49ad8e425e6",
   "metadata": {},
   "outputs": [
    {
     "name": "stdout",
     "output_type": "stream",
     "text": [
      "^C\n"
     ]
    }
   ],
   "source": []
  },
  {
   "cell_type": "code",
   "execution_count": null,
   "id": "52353083-f2da-480f-8313-ccb2270fbce7",
   "metadata": {},
   "outputs": [],
   "source": [
    "! streamlit run Classify1_tumor.py\n"
   ]
  },
  {
   "cell_type": "code",
   "execution_count": null,
   "id": "919ef5df-ca58-45b1-86e7-3a388f163bdf",
   "metadata": {},
   "outputs": [],
   "source": [
    "segmentation"
   ]
  }
 ],
 "metadata": {
  "kernelspec": {
   "display_name": "Python 3 (ipykernel)",
   "language": "python",
   "name": "python3"
  },
  "language_info": {
   "codemirror_mode": {
    "name": "ipython",
    "version": 3
   },
   "file_extension": ".py",
   "mimetype": "text/x-python",
   "name": "python",
   "nbconvert_exporter": "python",
   "pygments_lexer": "ipython3",
   "version": "3.13.5"
  }
 },
 "nbformat": 4,
 "nbformat_minor": 5
}
